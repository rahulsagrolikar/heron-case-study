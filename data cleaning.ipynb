{
 "cells": [
  {
   "cell_type": "code",
   "execution_count": 55,
   "id": "172e4334",
   "metadata": {
    "ExecuteTime": {
     "end_time": "2023-03-10T12:49:46.363751Z",
     "start_time": "2023-03-10T12:49:46.362133Z"
    }
   },
   "outputs": [],
   "source": [
    "import pandas as pd\n",
    "import seaborn as sns\n",
    "import matplotlib.pyplot as plt\n",
    "import gc"
   ]
  },
  {
   "cell_type": "code",
   "execution_count": 2,
   "id": "d6f473c2",
   "metadata": {
    "ExecuteTime": {
     "end_time": "2023-03-10T12:27:52.715639Z",
     "start_time": "2023-03-10T12:27:52.677379Z"
    }
   },
   "outputs": [
    {
     "data": {
      "text/html": [
       "<div>\n",
       "<style scoped>\n",
       "    .dataframe tbody tr th:only-of-type {\n",
       "        vertical-align: middle;\n",
       "    }\n",
       "\n",
       "    .dataframe tbody tr th {\n",
       "        vertical-align: top;\n",
       "    }\n",
       "\n",
       "    .dataframe thead th {\n",
       "        text-align: right;\n",
       "    }\n",
       "</style>\n",
       "<table border=\"1\" class=\"dataframe\">\n",
       "  <thead>\n",
       "    <tr style=\"text-align: right;\">\n",
       "      <th></th>\n",
       "      <th>cust_segment</th>\n",
       "      <th>count</th>\n",
       "    </tr>\n",
       "  </thead>\n",
       "  <tbody>\n",
       "    <tr>\n",
       "      <th>0</th>\n",
       "      <td>45-54|Female|Middle|Baby|Unknown|Married</td>\n",
       "      <td>3</td>\n",
       "    </tr>\n",
       "    <tr>\n",
       "      <th>1</th>\n",
       "      <td>Unknown|Unknown|VeryHigh|Youth|House|Separated</td>\n",
       "      <td>6</td>\n",
       "    </tr>\n",
       "    <tr>\n",
       "      <th>2</th>\n",
       "      <td>18-24|Male|High|None|Flat|Married</td>\n",
       "      <td>3</td>\n",
       "    </tr>\n",
       "    <tr>\n",
       "      <th>3</th>\n",
       "      <td>25-34|Female|Low|None|Unknown|Cohabiting</td>\n",
       "      <td>10</td>\n",
       "    </tr>\n",
       "    <tr>\n",
       "      <th>4</th>\n",
       "      <td>35-44|Unknown|High|Baby|Unknown|Separated</td>\n",
       "      <td>4</td>\n",
       "    </tr>\n",
       "  </tbody>\n",
       "</table>\n",
       "</div>"
      ],
      "text/plain": [
       "                                     cust_segment  count\n",
       "0        45-54|Female|Middle|Baby|Unknown|Married      3\n",
       "1  Unknown|Unknown|VeryHigh|Youth|House|Separated      6\n",
       "2               18-24|Male|High|None|Flat|Married      3\n",
       "3        25-34|Female|Low|None|Unknown|Cohabiting     10\n",
       "4       35-44|Unknown|High|Baby|Unknown|Separated      4"
      ]
     },
     "execution_count": 2,
     "metadata": {},
     "output_type": "execute_result"
    }
   ],
   "source": [
    "segment_count = pd.read_csv(\"./data/customersegmentcount.csv\", names=['cust_segment', 'count'])\n",
    "segment_count.head()"
   ]
  },
  {
   "cell_type": "code",
   "execution_count": 3,
   "id": "de7b52d3",
   "metadata": {
    "ExecuteTime": {
     "end_time": "2023-03-10T12:27:54.082945Z",
     "start_time": "2023-03-10T12:27:54.073484Z"
    }
   },
   "outputs": [
    {
     "data": {
      "text/plain": [
       "5064"
      ]
     },
     "execution_count": 3,
     "metadata": {},
     "output_type": "execute_result"
    }
   ],
   "source": [
    "segment_count.cust_segment.nunique() ## all unique categories"
   ]
  },
  {
   "cell_type": "code",
   "execution_count": 4,
   "id": "77642c47",
   "metadata": {
    "ExecuteTime": {
     "end_time": "2023-03-10T12:27:54.659351Z",
     "start_time": "2023-03-10T12:27:54.620628Z"
    }
   },
   "outputs": [
    {
     "data": {
      "text/html": [
       "<div>\n",
       "<style scoped>\n",
       "    .dataframe tbody tr th:only-of-type {\n",
       "        vertical-align: middle;\n",
       "    }\n",
       "\n",
       "    .dataframe tbody tr th {\n",
       "        vertical-align: top;\n",
       "    }\n",
       "\n",
       "    .dataframe thead th {\n",
       "        text-align: right;\n",
       "    }\n",
       "</style>\n",
       "<table border=\"1\" class=\"dataframe\">\n",
       "  <thead>\n",
       "    <tr style=\"text-align: right;\">\n",
       "      <th></th>\n",
       "      <th>Age</th>\n",
       "      <th>Gender</th>\n",
       "      <th>Income</th>\n",
       "      <th>Children</th>\n",
       "      <th>Housing</th>\n",
       "      <th>Relationship</th>\n",
       "      <th>count</th>\n",
       "    </tr>\n",
       "  </thead>\n",
       "  <tbody>\n",
       "    <tr>\n",
       "      <th>0</th>\n",
       "      <td>45-54</td>\n",
       "      <td>Female</td>\n",
       "      <td>Middle</td>\n",
       "      <td>Baby</td>\n",
       "      <td>Unknown</td>\n",
       "      <td>Married</td>\n",
       "      <td>3</td>\n",
       "    </tr>\n",
       "    <tr>\n",
       "      <th>1</th>\n",
       "      <td>Unknown</td>\n",
       "      <td>Unknown</td>\n",
       "      <td>VeryHigh</td>\n",
       "      <td>Youth</td>\n",
       "      <td>House</td>\n",
       "      <td>Separated</td>\n",
       "      <td>6</td>\n",
       "    </tr>\n",
       "    <tr>\n",
       "      <th>2</th>\n",
       "      <td>18-24</td>\n",
       "      <td>Male</td>\n",
       "      <td>High</td>\n",
       "      <td>None</td>\n",
       "      <td>Flat</td>\n",
       "      <td>Married</td>\n",
       "      <td>3</td>\n",
       "    </tr>\n",
       "    <tr>\n",
       "      <th>3</th>\n",
       "      <td>25-34</td>\n",
       "      <td>Female</td>\n",
       "      <td>Low</td>\n",
       "      <td>None</td>\n",
       "      <td>Unknown</td>\n",
       "      <td>Cohabiting</td>\n",
       "      <td>10</td>\n",
       "    </tr>\n",
       "    <tr>\n",
       "      <th>4</th>\n",
       "      <td>35-44</td>\n",
       "      <td>Unknown</td>\n",
       "      <td>High</td>\n",
       "      <td>Baby</td>\n",
       "      <td>Unknown</td>\n",
       "      <td>Separated</td>\n",
       "      <td>4</td>\n",
       "    </tr>\n",
       "    <tr>\n",
       "      <th>...</th>\n",
       "      <td>...</td>\n",
       "      <td>...</td>\n",
       "      <td>...</td>\n",
       "      <td>...</td>\n",
       "      <td>...</td>\n",
       "      <td>...</td>\n",
       "      <td>...</td>\n",
       "    </tr>\n",
       "    <tr>\n",
       "      <th>5059</th>\n",
       "      <td>25-34</td>\n",
       "      <td>Male</td>\n",
       "      <td>Middle</td>\n",
       "      <td>Preschool</td>\n",
       "      <td>Unknown</td>\n",
       "      <td>Separated</td>\n",
       "      <td>1</td>\n",
       "    </tr>\n",
       "    <tr>\n",
       "      <th>5060</th>\n",
       "      <td>35-44</td>\n",
       "      <td>Female</td>\n",
       "      <td>High</td>\n",
       "      <td>Preschool</td>\n",
       "      <td>Unknown</td>\n",
       "      <td>Unknown</td>\n",
       "      <td>1</td>\n",
       "    </tr>\n",
       "    <tr>\n",
       "      <th>5061</th>\n",
       "      <td>Unknown</td>\n",
       "      <td>Male</td>\n",
       "      <td>Middle</td>\n",
       "      <td>Teenager</td>\n",
       "      <td>Unknown</td>\n",
       "      <td>Married</td>\n",
       "      <td>1</td>\n",
       "    </tr>\n",
       "    <tr>\n",
       "      <th>5062</th>\n",
       "      <td>18-24</td>\n",
       "      <td>Female</td>\n",
       "      <td>VeryHigh</td>\n",
       "      <td>Preschool</td>\n",
       "      <td>House</td>\n",
       "      <td>Cohabiting</td>\n",
       "      <td>1</td>\n",
       "    </tr>\n",
       "    <tr>\n",
       "      <th>5063</th>\n",
       "      <td>18-24</td>\n",
       "      <td>Female</td>\n",
       "      <td>High</td>\n",
       "      <td>Youth</td>\n",
       "      <td>Unknown</td>\n",
       "      <td>Cohabiting</td>\n",
       "      <td>1</td>\n",
       "    </tr>\n",
       "  </tbody>\n",
       "</table>\n",
       "<p>5064 rows × 7 columns</p>\n",
       "</div>"
      ],
      "text/plain": [
       "          Age   Gender    Income   Children  Housing Relationship  count\n",
       "0       45-54   Female    Middle       Baby  Unknown      Married      3\n",
       "1     Unknown  Unknown  VeryHigh      Youth    House    Separated      6\n",
       "2       18-24     Male      High       None     Flat      Married      3\n",
       "3       25-34   Female       Low       None  Unknown   Cohabiting     10\n",
       "4       35-44  Unknown      High       Baby  Unknown    Separated      4\n",
       "...       ...      ...       ...        ...      ...          ...    ...\n",
       "5059    25-34     Male    Middle  Preschool  Unknown    Separated      1\n",
       "5060    35-44   Female      High  Preschool  Unknown      Unknown      1\n",
       "5061  Unknown     Male    Middle   Teenager  Unknown      Married      1\n",
       "5062    18-24   Female  VeryHigh  Preschool    House   Cohabiting      1\n",
       "5063    18-24   Female      High      Youth  Unknown   Cohabiting      1\n",
       "\n",
       "[5064 rows x 7 columns]"
      ]
     },
     "execution_count": 4,
     "metadata": {},
     "output_type": "execute_result"
    }
   ],
   "source": [
    "segment_count[[\"Age\", \"Gender\", \"Income\", \"Children\", \"Housing\", \"Relationship\"]] = segment_count.cust_segment.str.split(\"|\", expand=True)\n",
    "segment_count = segment_count.iloc[:, [2,3,4,5,6,7,1]]\n",
    "segment_count"
   ]
  },
  {
   "cell_type": "code",
   "execution_count": 60,
   "id": "221d1747",
   "metadata": {
    "ExecuteTime": {
     "end_time": "2023-03-10T12:53:12.282022Z",
     "start_time": "2023-03-10T12:53:12.262964Z"
    }
   },
   "outputs": [],
   "source": [
    "segment_count.to_pickle(\"segment_count.pickle\")"
   ]
  },
  {
   "cell_type": "code",
   "execution_count": 5,
   "id": "286412b3",
   "metadata": {
    "ExecuteTime": {
     "end_time": "2023-03-10T12:27:56.048152Z",
     "start_time": "2023-03-10T12:27:55.653946Z"
    }
   },
   "outputs": [],
   "source": [
    "segment_revenue = pd.read_csv(\"./data/customersubcatgrossrevenuebysegment.csv\", names=['cust_segment', \"purchase_category\", 'revenue'])\n",
    "segment_purchase_count = pd.read_csv(\"./data/customersubcatpurchasecountbysegment.csv\", names=['cust_segment', \"purchase_category\", 'total_purchases'])"
   ]
  },
  {
   "cell_type": "code",
   "execution_count": 6,
   "id": "89bf45b2",
   "metadata": {
    "ExecuteTime": {
     "end_time": "2023-03-10T12:27:56.594988Z",
     "start_time": "2023-03-10T12:27:56.579615Z"
    }
   },
   "outputs": [
    {
     "data": {
      "text/html": [
       "<div>\n",
       "<style scoped>\n",
       "    .dataframe tbody tr th:only-of-type {\n",
       "        vertical-align: middle;\n",
       "    }\n",
       "\n",
       "    .dataframe tbody tr th {\n",
       "        vertical-align: top;\n",
       "    }\n",
       "\n",
       "    .dataframe thead th {\n",
       "        text-align: right;\n",
       "    }\n",
       "</style>\n",
       "<table border=\"1\" class=\"dataframe\">\n",
       "  <thead>\n",
       "    <tr style=\"text-align: right;\">\n",
       "      <th></th>\n",
       "      <th>cust_segment</th>\n",
       "      <th>purchase_category</th>\n",
       "      <th>revenue</th>\n",
       "    </tr>\n",
       "  </thead>\n",
       "  <tbody>\n",
       "    <tr>\n",
       "      <th>0</th>\n",
       "      <td>35-44|Male|Middle|Youth|Flat|Married</td>\n",
       "      <td>Home|Beds &amp; Mattresses</td>\n",
       "      <td>733.450000</td>\n",
       "    </tr>\n",
       "    <tr>\n",
       "      <th>1</th>\n",
       "      <td>Unknown|Female|Low|Youth|House|Unknown</td>\n",
       "      <td>Home|Beds &amp; Mattresses</td>\n",
       "      <td>10745.972000</td>\n",
       "    </tr>\n",
       "    <tr>\n",
       "      <th>2</th>\n",
       "      <td>Unknown|Unknown|Low|Teenager|Flat|Married</td>\n",
       "      <td>Garden|Garden Leisure</td>\n",
       "      <td>136.001000</td>\n",
       "    </tr>\n",
       "    <tr>\n",
       "      <th>3</th>\n",
       "      <td>35-44|Male|Middle|Teenager|House|Married</td>\n",
       "      <td>Healthcare|Slimming &amp; Detox Supplements</td>\n",
       "      <td>27.980000</td>\n",
       "    </tr>\n",
       "    <tr>\n",
       "      <th>4</th>\n",
       "      <td>25-34|Unknown|Middle|Preschool|Flat|Single</td>\n",
       "      <td>Home|Bathroom</td>\n",
       "      <td>56.688668</td>\n",
       "    </tr>\n",
       "  </tbody>\n",
       "</table>\n",
       "</div>"
      ],
      "text/plain": [
       "                                 cust_segment  \\\n",
       "0        35-44|Male|Middle|Youth|Flat|Married   \n",
       "1      Unknown|Female|Low|Youth|House|Unknown   \n",
       "2   Unknown|Unknown|Low|Teenager|Flat|Married   \n",
       "3    35-44|Male|Middle|Teenager|House|Married   \n",
       "4  25-34|Unknown|Middle|Preschool|Flat|Single   \n",
       "\n",
       "                         purchase_category       revenue  \n",
       "0                   Home|Beds & Mattresses    733.450000  \n",
       "1                   Home|Beds & Mattresses  10745.972000  \n",
       "2                    Garden|Garden Leisure    136.001000  \n",
       "3  Healthcare|Slimming & Detox Supplements     27.980000  \n",
       "4                            Home|Bathroom     56.688668  "
      ]
     },
     "execution_count": 6,
     "metadata": {},
     "output_type": "execute_result"
    }
   ],
   "source": [
    "segment_revenue.head()"
   ]
  },
  {
   "cell_type": "code",
   "execution_count": 7,
   "id": "ac201139",
   "metadata": {
    "ExecuteTime": {
     "end_time": "2023-03-10T12:27:56.926071Z",
     "start_time": "2023-03-10T12:27:56.911880Z"
    }
   },
   "outputs": [
    {
     "data": {
      "text/html": [
       "<div>\n",
       "<style scoped>\n",
       "    .dataframe tbody tr th:only-of-type {\n",
       "        vertical-align: middle;\n",
       "    }\n",
       "\n",
       "    .dataframe tbody tr th {\n",
       "        vertical-align: top;\n",
       "    }\n",
       "\n",
       "    .dataframe thead th {\n",
       "        text-align: right;\n",
       "    }\n",
       "</style>\n",
       "<table border=\"1\" class=\"dataframe\">\n",
       "  <thead>\n",
       "    <tr style=\"text-align: right;\">\n",
       "      <th></th>\n",
       "      <th>cust_segment</th>\n",
       "      <th>purchase_category</th>\n",
       "      <th>total_purchases</th>\n",
       "    </tr>\n",
       "  </thead>\n",
       "  <tbody>\n",
       "    <tr>\n",
       "      <th>0</th>\n",
       "      <td>35-44|Female|High|Teenager|House|Cohabiting</td>\n",
       "      <td>Garden|Garden Tools</td>\n",
       "      <td>22</td>\n",
       "    </tr>\n",
       "    <tr>\n",
       "      <th>1</th>\n",
       "      <td>25-34|Female|Middle|None|House|Married</td>\n",
       "      <td>Garden|Garden Tools</td>\n",
       "      <td>149</td>\n",
       "    </tr>\n",
       "    <tr>\n",
       "      <th>2</th>\n",
       "      <td>Unknown|Female|Unknown|Unknown|Flat|Unknown</td>\n",
       "      <td>Garden|Garden Tools</td>\n",
       "      <td>153</td>\n",
       "    </tr>\n",
       "    <tr>\n",
       "      <th>3</th>\n",
       "      <td>Unknown|Female|Middle|None|House|Unknown</td>\n",
       "      <td>Pets|Care</td>\n",
       "      <td>21</td>\n",
       "    </tr>\n",
       "    <tr>\n",
       "      <th>4</th>\n",
       "      <td>Unknown|Unknown|Middle|Teenager|House|Married</td>\n",
       "      <td>Learning|Financial</td>\n",
       "      <td>16</td>\n",
       "    </tr>\n",
       "  </tbody>\n",
       "</table>\n",
       "</div>"
      ],
      "text/plain": [
       "                                    cust_segment    purchase_category  \\\n",
       "0    35-44|Female|High|Teenager|House|Cohabiting  Garden|Garden Tools   \n",
       "1         25-34|Female|Middle|None|House|Married  Garden|Garden Tools   \n",
       "2    Unknown|Female|Unknown|Unknown|Flat|Unknown  Garden|Garden Tools   \n",
       "3       Unknown|Female|Middle|None|House|Unknown            Pets|Care   \n",
       "4  Unknown|Unknown|Middle|Teenager|House|Married   Learning|Financial   \n",
       "\n",
       "   total_purchases  \n",
       "0               22  \n",
       "1              149  \n",
       "2              153  \n",
       "3               21  \n",
       "4               16  "
      ]
     },
     "execution_count": 7,
     "metadata": {},
     "output_type": "execute_result"
    }
   ],
   "source": [
    "segment_purchase_count.head()"
   ]
  },
  {
   "cell_type": "code",
   "execution_count": 8,
   "id": "32646b2b",
   "metadata": {
    "ExecuteTime": {
     "end_time": "2023-03-10T12:27:57.861820Z",
     "start_time": "2023-03-10T12:27:57.769525Z"
    }
   },
   "outputs": [
    {
     "data": {
      "text/plain": [
       "(5064, 375)"
      ]
     },
     "execution_count": 8,
     "metadata": {},
     "output_type": "execute_result"
    }
   ],
   "source": [
    "segment_revenue.cust_segment.nunique(), segment_revenue.purchase_category.nunique()"
   ]
  },
  {
   "cell_type": "code",
   "execution_count": 9,
   "id": "a285ca36",
   "metadata": {
    "ExecuteTime": {
     "end_time": "2023-03-10T12:27:58.332944Z",
     "start_time": "2023-03-10T12:27:58.238877Z"
    }
   },
   "outputs": [
    {
     "data": {
      "text/plain": [
       "(5064, 375)"
      ]
     },
     "execution_count": 9,
     "metadata": {},
     "output_type": "execute_result"
    }
   ],
   "source": [
    "segment_purchase_count.cust_segment.nunique(), segment_purchase_count.purchase_category.nunique()"
   ]
  },
  {
   "cell_type": "code",
   "execution_count": 10,
   "id": "4b091d28",
   "metadata": {
    "ExecuteTime": {
     "end_time": "2023-03-10T12:27:58.723385Z",
     "start_time": "2023-03-10T12:27:58.531828Z"
    }
   },
   "outputs": [
    {
     "data": {
      "text/html": [
       "<div>\n",
       "<style scoped>\n",
       "    .dataframe tbody tr th:only-of-type {\n",
       "        vertical-align: middle;\n",
       "    }\n",
       "\n",
       "    .dataframe tbody tr th {\n",
       "        vertical-align: top;\n",
       "    }\n",
       "\n",
       "    .dataframe thead th {\n",
       "        text-align: right;\n",
       "    }\n",
       "</style>\n",
       "<table border=\"1\" class=\"dataframe\">\n",
       "  <thead>\n",
       "    <tr style=\"text-align: right;\">\n",
       "      <th></th>\n",
       "      <th>cust_segment</th>\n",
       "      <th>purchase_category</th>\n",
       "      <th>revenue</th>\n",
       "      <th>total_purchases</th>\n",
       "      <th>_merge</th>\n",
       "    </tr>\n",
       "  </thead>\n",
       "  <tbody>\n",
       "    <tr>\n",
       "      <th>0</th>\n",
       "      <td>35-44|Male|Middle|Youth|Flat|Married</td>\n",
       "      <td>Home|Beds &amp; Mattresses</td>\n",
       "      <td>733.450000</td>\n",
       "      <td>6.0</td>\n",
       "      <td>both</td>\n",
       "    </tr>\n",
       "    <tr>\n",
       "      <th>1</th>\n",
       "      <td>Unknown|Female|Low|Youth|House|Unknown</td>\n",
       "      <td>Home|Beds &amp; Mattresses</td>\n",
       "      <td>10745.972000</td>\n",
       "      <td>67.0</td>\n",
       "      <td>both</td>\n",
       "    </tr>\n",
       "    <tr>\n",
       "      <th>2</th>\n",
       "      <td>Unknown|Unknown|Low|Teenager|Flat|Married</td>\n",
       "      <td>Garden|Garden Leisure</td>\n",
       "      <td>136.001000</td>\n",
       "      <td>4.0</td>\n",
       "      <td>both</td>\n",
       "    </tr>\n",
       "    <tr>\n",
       "      <th>3</th>\n",
       "      <td>35-44|Male|Middle|Teenager|House|Married</td>\n",
       "      <td>Healthcare|Slimming &amp; Detox Supplements</td>\n",
       "      <td>27.980000</td>\n",
       "      <td>1.0</td>\n",
       "      <td>both</td>\n",
       "    </tr>\n",
       "    <tr>\n",
       "      <th>4</th>\n",
       "      <td>25-34|Unknown|Middle|Preschool|Flat|Single</td>\n",
       "      <td>Home|Bathroom</td>\n",
       "      <td>56.688668</td>\n",
       "      <td>7.0</td>\n",
       "      <td>both</td>\n",
       "    </tr>\n",
       "  </tbody>\n",
       "</table>\n",
       "</div>"
      ],
      "text/plain": [
       "                                 cust_segment  \\\n",
       "0        35-44|Male|Middle|Youth|Flat|Married   \n",
       "1      Unknown|Female|Low|Youth|House|Unknown   \n",
       "2   Unknown|Unknown|Low|Teenager|Flat|Married   \n",
       "3    35-44|Male|Middle|Teenager|House|Married   \n",
       "4  25-34|Unknown|Middle|Preschool|Flat|Single   \n",
       "\n",
       "                         purchase_category       revenue  total_purchases  \\\n",
       "0                   Home|Beds & Mattresses    733.450000              6.0   \n",
       "1                   Home|Beds & Mattresses  10745.972000             67.0   \n",
       "2                    Garden|Garden Leisure    136.001000              4.0   \n",
       "3  Healthcare|Slimming & Detox Supplements     27.980000              1.0   \n",
       "4                            Home|Bathroom     56.688668              7.0   \n",
       "\n",
       "  _merge  \n",
       "0   both  \n",
       "1   both  \n",
       "2   both  \n",
       "3   both  \n",
       "4   both  "
      ]
     },
     "execution_count": 10,
     "metadata": {},
     "output_type": "execute_result"
    }
   ],
   "source": [
    "## merge the two dataframes\n",
    "segment_revenue_and_count = pd.merge(segment_revenue, \n",
    "                                     segment_purchase_count,\n",
    "                                     how = \"outer\", \n",
    "                                     on = [\"cust_segment\", \"purchase_category\"], \n",
    "                                     indicator=True)\n",
    "\n",
    "segment_revenue_and_count.head()"
   ]
  },
  {
   "cell_type": "code",
   "execution_count": 56,
   "id": "24161f39",
   "metadata": {
    "ExecuteTime": {
     "end_time": "2023-03-10T12:49:46.586820Z",
     "start_time": "2023-03-10T12:49:46.364494Z"
    }
   },
   "outputs": [
    {
     "data": {
      "text/plain": [
       "9612"
      ]
     },
     "execution_count": 56,
     "metadata": {},
     "output_type": "execute_result"
    }
   ],
   "source": [
    "del segment_revenue\n",
    "del segment_purchase_count\n",
    "gc.collect()"
   ]
  },
  {
   "cell_type": "code",
   "execution_count": 11,
   "id": "712663ff",
   "metadata": {
    "ExecuteTime": {
     "end_time": "2023-03-10T12:27:59.672188Z",
     "start_time": "2023-03-10T12:27:59.659659Z"
    }
   },
   "outputs": [
    {
     "data": {
      "text/plain": [
       "both          356215\n",
       "left_only        743\n",
       "right_only         0\n",
       "Name: _merge, dtype: int64"
      ]
     },
     "execution_count": 11,
     "metadata": {},
     "output_type": "execute_result"
    }
   ],
   "source": [
    "segment_revenue_and_count._merge.value_counts()"
   ]
  },
  {
   "cell_type": "code",
   "execution_count": 12,
   "id": "568a9140",
   "metadata": {
    "ExecuteTime": {
     "end_time": "2023-03-10T12:28:00.449646Z",
     "start_time": "2023-03-10T12:28:00.424240Z"
    }
   },
   "outputs": [
    {
     "data": {
      "text/html": [
       "<div>\n",
       "<style scoped>\n",
       "    .dataframe tbody tr th:only-of-type {\n",
       "        vertical-align: middle;\n",
       "    }\n",
       "\n",
       "    .dataframe tbody tr th {\n",
       "        vertical-align: top;\n",
       "    }\n",
       "\n",
       "    .dataframe thead th {\n",
       "        text-align: right;\n",
       "    }\n",
       "</style>\n",
       "<table border=\"1\" class=\"dataframe\">\n",
       "  <thead>\n",
       "    <tr style=\"text-align: right;\">\n",
       "      <th></th>\n",
       "      <th>cust_segment</th>\n",
       "      <th>purchase_category</th>\n",
       "      <th>revenue</th>\n",
       "      <th>total_purchases</th>\n",
       "      <th>_merge</th>\n",
       "    </tr>\n",
       "  </thead>\n",
       "  <tbody>\n",
       "    <tr>\n",
       "      <th>226</th>\n",
       "      <td>35-44|Male|Low|Teenager|House|Separated</td>\n",
       "      <td>Healthcare|Quit Smoking</td>\n",
       "      <td>9.475</td>\n",
       "      <td>NaN</td>\n",
       "      <td>left_only</td>\n",
       "    </tr>\n",
       "    <tr>\n",
       "      <th>1812</th>\n",
       "      <td>35-44|Female|High|Preschool|Flat|Single</td>\n",
       "      <td>Fitness|Sportswear</td>\n",
       "      <td>7.990</td>\n",
       "      <td>NaN</td>\n",
       "      <td>left_only</td>\n",
       "    </tr>\n",
       "    <tr>\n",
       "      <th>7592</th>\n",
       "      <td>65+|Female|Middle|Teenager|Unknown|Cohabiting</td>\n",
       "      <td>Garden|Plants &amp; Flowers</td>\n",
       "      <td>59.151</td>\n",
       "      <td>NaN</td>\n",
       "      <td>left_only</td>\n",
       "    </tr>\n",
       "    <tr>\n",
       "      <th>9189</th>\n",
       "      <td>25-34|Female|High|None|House|Separated</td>\n",
       "      <td>Spas &amp; Country House|Attractions</td>\n",
       "      <td>409.650</td>\n",
       "      <td>NaN</td>\n",
       "      <td>left_only</td>\n",
       "    </tr>\n",
       "    <tr>\n",
       "      <th>9192</th>\n",
       "      <td>18-24|Female|Low|None|House|Separated</td>\n",
       "      <td>Beach Holidays|Greece</td>\n",
       "      <td>10.000</td>\n",
       "      <td>NaN</td>\n",
       "      <td>left_only</td>\n",
       "    </tr>\n",
       "  </tbody>\n",
       "</table>\n",
       "</div>"
      ],
      "text/plain": [
       "                                       cust_segment  \\\n",
       "226         35-44|Male|Low|Teenager|House|Separated   \n",
       "1812        35-44|Female|High|Preschool|Flat|Single   \n",
       "7592  65+|Female|Middle|Teenager|Unknown|Cohabiting   \n",
       "9189         25-34|Female|High|None|House|Separated   \n",
       "9192          18-24|Female|Low|None|House|Separated   \n",
       "\n",
       "                     purchase_category  revenue  total_purchases     _merge  \n",
       "226            Healthcare|Quit Smoking    9.475              NaN  left_only  \n",
       "1812                Fitness|Sportswear    7.990              NaN  left_only  \n",
       "7592           Garden|Plants & Flowers   59.151              NaN  left_only  \n",
       "9189  Spas & Country House|Attractions  409.650              NaN  left_only  \n",
       "9192             Beach Holidays|Greece   10.000              NaN  left_only  "
      ]
     },
     "execution_count": 12,
     "metadata": {},
     "output_type": "execute_result"
    }
   ],
   "source": [
    "## there are missing values in total_purchases\n",
    "segment_revenue_and_count[segment_revenue_and_count._merge == \"left_only\"].head()"
   ]
  },
  {
   "cell_type": "code",
   "execution_count": 13,
   "id": "36d2603a",
   "metadata": {
    "ExecuteTime": {
     "end_time": "2023-03-10T12:28:00.742052Z",
     "start_time": "2023-03-10T12:28:00.736759Z"
    }
   },
   "outputs": [],
   "source": [
    "## As the total_purchases have NaNs, a good measure could be to determine \n",
    "## the average ticket size of a purchase_category and filling the missing\n",
    "## value with the approximate total_purchases that will generate the corresponding revenue."
   ]
  },
  {
   "cell_type": "code",
   "execution_count": 14,
   "id": "b45cdb24",
   "metadata": {
    "ExecuteTime": {
     "end_time": "2023-03-10T12:28:01.232455Z",
     "start_time": "2023-03-10T12:28:01.077570Z"
    }
   },
   "outputs": [
    {
     "data": {
      "text/html": [
       "<div>\n",
       "<style scoped>\n",
       "    .dataframe tbody tr th:only-of-type {\n",
       "        vertical-align: middle;\n",
       "    }\n",
       "\n",
       "    .dataframe tbody tr th {\n",
       "        vertical-align: top;\n",
       "    }\n",
       "\n",
       "    .dataframe thead th {\n",
       "        text-align: right;\n",
       "    }\n",
       "</style>\n",
       "<table border=\"1\" class=\"dataframe\">\n",
       "  <thead>\n",
       "    <tr style=\"text-align: right;\">\n",
       "      <th></th>\n",
       "      <th>purchase_category</th>\n",
       "      <th>avg_revenue</th>\n",
       "    </tr>\n",
       "  </thead>\n",
       "  <tbody>\n",
       "    <tr>\n",
       "      <th>0</th>\n",
       "      <td>Activities|Adventure &amp; Theme Parks &amp; Zoos</td>\n",
       "      <td>20.149809</td>\n",
       "    </tr>\n",
       "    <tr>\n",
       "      <th>1</th>\n",
       "      <td>Activities|Animals</td>\n",
       "      <td>24.765165</td>\n",
       "    </tr>\n",
       "    <tr>\n",
       "      <th>2</th>\n",
       "      <td>Activities|Archery/Shooting</td>\n",
       "      <td>25.557389</td>\n",
       "    </tr>\n",
       "    <tr>\n",
       "      <th>3</th>\n",
       "      <td>Activities|Ballooning</td>\n",
       "      <td>306.325000</td>\n",
       "    </tr>\n",
       "    <tr>\n",
       "      <th>4</th>\n",
       "      <td>Activities|Dance</td>\n",
       "      <td>12.210471</td>\n",
       "    </tr>\n",
       "    <tr>\n",
       "      <th>...</th>\n",
       "      <td>...</td>\n",
       "      <td>...</td>\n",
       "    </tr>\n",
       "    <tr>\n",
       "      <th>370</th>\n",
       "      <td>UK Seaside|Other Seaside</td>\n",
       "      <td>115.307378</td>\n",
       "    </tr>\n",
       "    <tr>\n",
       "      <th>371</th>\n",
       "      <td>Wedding|Bridal Beauty</td>\n",
       "      <td>14.662469</td>\n",
       "    </tr>\n",
       "    <tr>\n",
       "      <th>372</th>\n",
       "      <td>Wedding|Flowers</td>\n",
       "      <td>7.016250</td>\n",
       "    </tr>\n",
       "    <tr>\n",
       "      <th>373</th>\n",
       "      <td>Wedding|Photography</td>\n",
       "      <td>171.625000</td>\n",
       "    </tr>\n",
       "    <tr>\n",
       "      <th>374</th>\n",
       "      <td>Wedding|Wedding Package/Venue Hire</td>\n",
       "      <td>1471.454762</td>\n",
       "    </tr>\n",
       "  </tbody>\n",
       "</table>\n",
       "<p>375 rows × 2 columns</p>\n",
       "</div>"
      ],
      "text/plain": [
       "                             purchase_category  avg_revenue\n",
       "0    Activities|Adventure & Theme Parks & Zoos    20.149809\n",
       "1                           Activities|Animals    24.765165\n",
       "2                  Activities|Archery/Shooting    25.557389\n",
       "3                        Activities|Ballooning   306.325000\n",
       "4                             Activities|Dance    12.210471\n",
       "..                                         ...          ...\n",
       "370                   UK Seaside|Other Seaside   115.307378\n",
       "371                      Wedding|Bridal Beauty    14.662469\n",
       "372                            Wedding|Flowers     7.016250\n",
       "373                        Wedding|Photography   171.625000\n",
       "374         Wedding|Wedding Package/Venue Hire  1471.454762\n",
       "\n",
       "[375 rows x 2 columns]"
      ]
     },
     "execution_count": 14,
     "metadata": {},
     "output_type": "execute_result"
    }
   ],
   "source": [
    "## find avg ticket size for _purchase_category\n",
    "avg_ticket_size_by_purchase_category = (segment_revenue_and_count[segment_revenue_and_count._merge != \"left_only\"]\n",
    "                                        .groupby(\"purchase_category\")\n",
    "                                        .apply(lambda g: sum(g.revenue)/sum(g.total_purchases))\n",
    "                                        .reset_index()\n",
    "                                        .rename(columns = {0:\"avg_revenue\"}))\n",
    "avg_ticket_size_by_purchase_category"
   ]
  },
  {
   "cell_type": "code",
   "execution_count": 15,
   "id": "a0e652fe",
   "metadata": {
    "ExecuteTime": {
     "end_time": "2023-03-10T12:28:01.897593Z",
     "start_time": "2023-03-10T12:28:01.817597Z"
    }
   },
   "outputs": [],
   "source": [
    "## join it back to the segment_revenue_and_count dataframe\n",
    "segment_revenue_and_count = pd.merge(segment_revenue_and_count,\n",
    "                                     avg_ticket_size_by_purchase_category,\n",
    "                                     on = \"purchase_category\")"
   ]
  },
  {
   "cell_type": "code",
   "execution_count": 16,
   "id": "6e3b9e3a",
   "metadata": {
    "ExecuteTime": {
     "end_time": "2023-03-10T12:28:02.159525Z",
     "start_time": "2023-03-10T12:28:02.130611Z"
    }
   },
   "outputs": [
    {
     "data": {
      "application/javascript": [
       "\n",
       "        if (window._pyforest_update_imports_cell) { window._pyforest_update_imports_cell('import numpy as np'); }\n",
       "    "
      ],
      "text/plain": [
       "<IPython.core.display.Javascript object>"
      ]
     },
     "metadata": {},
     "output_type": "display_data"
    },
    {
     "data": {
      "text/html": [
       "<div>\n",
       "<style scoped>\n",
       "    .dataframe tbody tr th:only-of-type {\n",
       "        vertical-align: middle;\n",
       "    }\n",
       "\n",
       "    .dataframe tbody tr th {\n",
       "        vertical-align: top;\n",
       "    }\n",
       "\n",
       "    .dataframe thead th {\n",
       "        text-align: right;\n",
       "    }\n",
       "</style>\n",
       "<table border=\"1\" class=\"dataframe\">\n",
       "  <thead>\n",
       "    <tr style=\"text-align: right;\">\n",
       "      <th></th>\n",
       "      <th>cust_segment</th>\n",
       "      <th>purchase_category</th>\n",
       "      <th>revenue</th>\n",
       "      <th>total_purchases</th>\n",
       "      <th>_merge</th>\n",
       "      <th>avg_revenue</th>\n",
       "    </tr>\n",
       "  </thead>\n",
       "  <tbody>\n",
       "    <tr>\n",
       "      <th>0</th>\n",
       "      <td>35-44|Male|Middle|Youth|Flat|Married</td>\n",
       "      <td>Home|Beds &amp; Mattresses</td>\n",
       "      <td>733.450</td>\n",
       "      <td>6</td>\n",
       "      <td>both</td>\n",
       "      <td>165.608162</td>\n",
       "    </tr>\n",
       "    <tr>\n",
       "      <th>1</th>\n",
       "      <td>Unknown|Female|Low|Youth|House|Unknown</td>\n",
       "      <td>Home|Beds &amp; Mattresses</td>\n",
       "      <td>10745.972</td>\n",
       "      <td>67</td>\n",
       "      <td>both</td>\n",
       "      <td>165.608162</td>\n",
       "    </tr>\n",
       "    <tr>\n",
       "      <th>2</th>\n",
       "      <td>45-54|Unknown|VeryHigh|None|House|Separated</td>\n",
       "      <td>Home|Beds &amp; Mattresses</td>\n",
       "      <td>2204.830</td>\n",
       "      <td>16</td>\n",
       "      <td>both</td>\n",
       "      <td>165.608162</td>\n",
       "    </tr>\n",
       "    <tr>\n",
       "      <th>3</th>\n",
       "      <td>25-34|Unknown|Middle|Teenager|House|Married</td>\n",
       "      <td>Home|Beds &amp; Mattresses</td>\n",
       "      <td>25627.180</td>\n",
       "      <td>145</td>\n",
       "      <td>both</td>\n",
       "      <td>165.608162</td>\n",
       "    </tr>\n",
       "    <tr>\n",
       "      <th>4</th>\n",
       "      <td>35-44|Unknown|Middle|None|Flat|Unknown</td>\n",
       "      <td>Home|Beds &amp; Mattresses</td>\n",
       "      <td>3405.240</td>\n",
       "      <td>21</td>\n",
       "      <td>both</td>\n",
       "      <td>165.608162</td>\n",
       "    </tr>\n",
       "  </tbody>\n",
       "</table>\n",
       "</div>"
      ],
      "text/plain": [
       "                                  cust_segment       purchase_category  \\\n",
       "0         35-44|Male|Middle|Youth|Flat|Married  Home|Beds & Mattresses   \n",
       "1       Unknown|Female|Low|Youth|House|Unknown  Home|Beds & Mattresses   \n",
       "2  45-54|Unknown|VeryHigh|None|House|Separated  Home|Beds & Mattresses   \n",
       "3  25-34|Unknown|Middle|Teenager|House|Married  Home|Beds & Mattresses   \n",
       "4       35-44|Unknown|Middle|None|Flat|Unknown  Home|Beds & Mattresses   \n",
       "\n",
       "     revenue  total_purchases _merge  avg_revenue  \n",
       "0    733.450                6   both   165.608162  \n",
       "1  10745.972               67   both   165.608162  \n",
       "2   2204.830               16   both   165.608162  \n",
       "3  25627.180              145   both   165.608162  \n",
       "4   3405.240               21   both   165.608162  "
      ]
     },
     "execution_count": 16,
     "metadata": {},
     "output_type": "execute_result"
    }
   ],
   "source": [
    "## fill the missing value with the number of transactions\n",
    "\n",
    "segment_revenue_and_count.loc[segment_revenue_and_count._merge == \"left_only\", \"total_purchases\"] = np.ceil(segment_revenue_and_count.loc[segment_revenue_and_count._merge == \"left_only\", \"revenue\"]/segment_revenue_and_count.loc[segment_revenue_and_count._merge == \"left_only\", \"avg_revenue\"])\n",
    "segment_revenue_and_count[\"total_purchases\"] = segment_revenue_and_count.total_purchases.astype(int)\n",
    "segment_revenue_and_count.head()"
   ]
  },
  {
   "cell_type": "code",
   "execution_count": 17,
   "id": "312603d7",
   "metadata": {
    "ExecuteTime": {
     "end_time": "2023-03-10T12:28:02.929507Z",
     "start_time": "2023-03-10T12:28:02.901271Z"
    }
   },
   "outputs": [
    {
     "data": {
      "text/html": [
       "<div>\n",
       "<style scoped>\n",
       "    .dataframe tbody tr th:only-of-type {\n",
       "        vertical-align: middle;\n",
       "    }\n",
       "\n",
       "    .dataframe tbody tr th {\n",
       "        vertical-align: top;\n",
       "    }\n",
       "\n",
       "    .dataframe thead th {\n",
       "        text-align: right;\n",
       "    }\n",
       "</style>\n",
       "<table border=\"1\" class=\"dataframe\">\n",
       "  <thead>\n",
       "    <tr style=\"text-align: right;\">\n",
       "      <th></th>\n",
       "      <th>cust_segment</th>\n",
       "      <th>purchase_category</th>\n",
       "      <th>revenue</th>\n",
       "      <th>total_purchases</th>\n",
       "    </tr>\n",
       "  </thead>\n",
       "  <tbody>\n",
       "    <tr>\n",
       "      <th>0</th>\n",
       "      <td>35-44|Male|Middle|Youth|Flat|Married</td>\n",
       "      <td>Home|Beds &amp; Mattresses</td>\n",
       "      <td>733.450</td>\n",
       "      <td>6</td>\n",
       "    </tr>\n",
       "    <tr>\n",
       "      <th>1</th>\n",
       "      <td>Unknown|Female|Low|Youth|House|Unknown</td>\n",
       "      <td>Home|Beds &amp; Mattresses</td>\n",
       "      <td>10745.972</td>\n",
       "      <td>67</td>\n",
       "    </tr>\n",
       "    <tr>\n",
       "      <th>2</th>\n",
       "      <td>45-54|Unknown|VeryHigh|None|House|Separated</td>\n",
       "      <td>Home|Beds &amp; Mattresses</td>\n",
       "      <td>2204.830</td>\n",
       "      <td>16</td>\n",
       "    </tr>\n",
       "    <tr>\n",
       "      <th>3</th>\n",
       "      <td>25-34|Unknown|Middle|Teenager|House|Married</td>\n",
       "      <td>Home|Beds &amp; Mattresses</td>\n",
       "      <td>25627.180</td>\n",
       "      <td>145</td>\n",
       "    </tr>\n",
       "    <tr>\n",
       "      <th>4</th>\n",
       "      <td>35-44|Unknown|Middle|None|Flat|Unknown</td>\n",
       "      <td>Home|Beds &amp; Mattresses</td>\n",
       "      <td>3405.240</td>\n",
       "      <td>21</td>\n",
       "    </tr>\n",
       "  </tbody>\n",
       "</table>\n",
       "</div>"
      ],
      "text/plain": [
       "                                  cust_segment       purchase_category  \\\n",
       "0         35-44|Male|Middle|Youth|Flat|Married  Home|Beds & Mattresses   \n",
       "1       Unknown|Female|Low|Youth|House|Unknown  Home|Beds & Mattresses   \n",
       "2  45-54|Unknown|VeryHigh|None|House|Separated  Home|Beds & Mattresses   \n",
       "3  25-34|Unknown|Middle|Teenager|House|Married  Home|Beds & Mattresses   \n",
       "4       35-44|Unknown|Middle|None|Flat|Unknown  Home|Beds & Mattresses   \n",
       "\n",
       "     revenue  total_purchases  \n",
       "0    733.450                6  \n",
       "1  10745.972               67  \n",
       "2   2204.830               16  \n",
       "3  25627.180              145  \n",
       "4   3405.240               21  "
      ]
     },
     "execution_count": 17,
     "metadata": {},
     "output_type": "execute_result"
    }
   ],
   "source": [
    "## drop columns not needed now\n",
    "\n",
    "segment_revenue_and_count.drop(columns = [\"_merge\", \"avg_revenue\"], inplace = True)\n",
    "segment_revenue_and_count.head()"
   ]
  },
  {
   "cell_type": "code",
   "execution_count": 18,
   "id": "1cc251a6",
   "metadata": {
    "ExecuteTime": {
     "end_time": "2023-03-10T12:28:03.709248Z",
     "start_time": "2023-03-10T12:28:03.704525Z"
    }
   },
   "outputs": [],
   "source": [
    "## Split the cust_segment and purchase_category to separater columns"
   ]
  },
  {
   "cell_type": "code",
   "execution_count": 19,
   "id": "73a4b7aa",
   "metadata": {
    "ExecuteTime": {
     "end_time": "2023-03-10T12:28:05.953482Z",
     "start_time": "2023-03-10T12:28:04.359335Z"
    }
   },
   "outputs": [
    {
     "data": {
      "text/html": [
       "<div>\n",
       "<style scoped>\n",
       "    .dataframe tbody tr th:only-of-type {\n",
       "        vertical-align: middle;\n",
       "    }\n",
       "\n",
       "    .dataframe tbody tr th {\n",
       "        vertical-align: top;\n",
       "    }\n",
       "\n",
       "    .dataframe thead th {\n",
       "        text-align: right;\n",
       "    }\n",
       "</style>\n",
       "<table border=\"1\" class=\"dataframe\">\n",
       "  <thead>\n",
       "    <tr style=\"text-align: right;\">\n",
       "      <th></th>\n",
       "      <th>Age</th>\n",
       "      <th>Gender</th>\n",
       "      <th>Income</th>\n",
       "      <th>Children</th>\n",
       "      <th>Housing</th>\n",
       "      <th>Relationship</th>\n",
       "      <th>PurchaseCategoryA</th>\n",
       "      <th>PurchaseCategoryB</th>\n",
       "      <th>revenue</th>\n",
       "      <th>total_purchases</th>\n",
       "    </tr>\n",
       "  </thead>\n",
       "  <tbody>\n",
       "    <tr>\n",
       "      <th>0</th>\n",
       "      <td>35-44</td>\n",
       "      <td>Male</td>\n",
       "      <td>Middle</td>\n",
       "      <td>Youth</td>\n",
       "      <td>Flat</td>\n",
       "      <td>Married</td>\n",
       "      <td>Home</td>\n",
       "      <td>Beds &amp; Mattresses</td>\n",
       "      <td>733.450</td>\n",
       "      <td>6</td>\n",
       "    </tr>\n",
       "    <tr>\n",
       "      <th>1</th>\n",
       "      <td>Unknown</td>\n",
       "      <td>Female</td>\n",
       "      <td>Low</td>\n",
       "      <td>Youth</td>\n",
       "      <td>House</td>\n",
       "      <td>Unknown</td>\n",
       "      <td>Home</td>\n",
       "      <td>Beds &amp; Mattresses</td>\n",
       "      <td>10745.972</td>\n",
       "      <td>67</td>\n",
       "    </tr>\n",
       "    <tr>\n",
       "      <th>2</th>\n",
       "      <td>45-54</td>\n",
       "      <td>Unknown</td>\n",
       "      <td>VeryHigh</td>\n",
       "      <td>None</td>\n",
       "      <td>House</td>\n",
       "      <td>Separated</td>\n",
       "      <td>Home</td>\n",
       "      <td>Beds &amp; Mattresses</td>\n",
       "      <td>2204.830</td>\n",
       "      <td>16</td>\n",
       "    </tr>\n",
       "    <tr>\n",
       "      <th>3</th>\n",
       "      <td>25-34</td>\n",
       "      <td>Unknown</td>\n",
       "      <td>Middle</td>\n",
       "      <td>Teenager</td>\n",
       "      <td>House</td>\n",
       "      <td>Married</td>\n",
       "      <td>Home</td>\n",
       "      <td>Beds &amp; Mattresses</td>\n",
       "      <td>25627.180</td>\n",
       "      <td>145</td>\n",
       "    </tr>\n",
       "    <tr>\n",
       "      <th>4</th>\n",
       "      <td>35-44</td>\n",
       "      <td>Unknown</td>\n",
       "      <td>Middle</td>\n",
       "      <td>None</td>\n",
       "      <td>Flat</td>\n",
       "      <td>Unknown</td>\n",
       "      <td>Home</td>\n",
       "      <td>Beds &amp; Mattresses</td>\n",
       "      <td>3405.240</td>\n",
       "      <td>21</td>\n",
       "    </tr>\n",
       "  </tbody>\n",
       "</table>\n",
       "</div>"
      ],
      "text/plain": [
       "       Age   Gender    Income  Children Housing Relationship  \\\n",
       "0    35-44     Male    Middle     Youth    Flat      Married   \n",
       "1  Unknown   Female       Low     Youth   House      Unknown   \n",
       "2    45-54  Unknown  VeryHigh      None   House    Separated   \n",
       "3    25-34  Unknown    Middle  Teenager   House      Married   \n",
       "4    35-44  Unknown    Middle      None    Flat      Unknown   \n",
       "\n",
       "  PurchaseCategoryA  PurchaseCategoryB    revenue  total_purchases  \n",
       "0              Home  Beds & Mattresses    733.450                6  \n",
       "1              Home  Beds & Mattresses  10745.972               67  \n",
       "2              Home  Beds & Mattresses   2204.830               16  \n",
       "3              Home  Beds & Mattresses  25627.180              145  \n",
       "4              Home  Beds & Mattresses   3405.240               21  "
      ]
     },
     "execution_count": 19,
     "metadata": {},
     "output_type": "execute_result"
    }
   ],
   "source": [
    "segment_revenue_and_count[[\"Age\", \"Gender\", \"Income\", \"Children\", \"Housing\", \"Relationship\"]] = segment_revenue_and_count.cust_segment.str.split(\"|\", expand=True)\n",
    "segment_revenue_and_count[[\"PurchaseCategoryA\", \"PurchaseCategoryB\"]] = segment_revenue_and_count.purchase_category.str.split(\"|\", expand=True)\n",
    "\n",
    "segment_revenue_and_count = segment_revenue_and_count.iloc[:, [4,5,6,7,8,9,10,11,2,3]]\n",
    "segment_revenue_and_count.head()"
   ]
  },
  {
   "cell_type": "code",
   "execution_count": 46,
   "id": "15a1649a",
   "metadata": {
    "ExecuteTime": {
     "end_time": "2023-03-10T12:47:06.852553Z",
     "start_time": "2023-03-10T12:47:06.843215Z"
    }
   },
   "outputs": [
    {
     "data": {
      "text/plain": [
       "(356958, 10)"
      ]
     },
     "execution_count": 46,
     "metadata": {},
     "output_type": "execute_result"
    }
   ],
   "source": [
    "segment_revenue_and_count.shape"
   ]
  },
  {
   "cell_type": "code",
   "execution_count": 51,
   "id": "0c632e05",
   "metadata": {
    "ExecuteTime": {
     "end_time": "2023-03-10T12:48:28.776532Z",
     "start_time": "2023-03-10T12:48:28.038460Z"
    }
   },
   "outputs": [],
   "source": [
    "for col in segment_revenue_and_count.columns[:-2]:\n",
    "    segment_revenue_and_count[col] = segment_revenue_and_count[col].astype(\"category\")"
   ]
  },
  {
   "cell_type": "code",
   "execution_count": 59,
   "id": "b0486d59",
   "metadata": {
    "ExecuteTime": {
     "end_time": "2023-03-10T12:51:45.060425Z",
     "start_time": "2023-03-10T12:51:45.047096Z"
    }
   },
   "outputs": [],
   "source": [
    "segment_revenue_and_count.to_pickle(\"segment_revenue_and_count.pickle\")"
   ]
  },
  {
   "cell_type": "code",
   "execution_count": 33,
   "id": "b1c92808",
   "metadata": {
    "ExecuteTime": {
     "end_time": "2023-03-10T12:24:20.485970Z",
     "start_time": "2023-03-10T12:24:20.478717Z"
    }
   },
   "outputs": [],
   "source": [
    "## segment_revenue_and_count is the final dataframe that we should analyze"
   ]
  }
 ],
 "metadata": {
  "finalized": {
   "timestamp": 1678485969025,
   "trusted": false
  },
  "kernelspec": {
   "display_name": "Python 3 (ipykernel)",
   "language": "python",
   "name": "python3"
  },
  "language_info": {
   "codemirror_mode": {
    "name": "ipython",
    "version": 3
   },
   "file_extension": ".py",
   "mimetype": "text/x-python",
   "name": "python",
   "nbconvert_exporter": "python",
   "pygments_lexer": "ipython3",
   "version": "3.9.12"
  },
  "toc": {
   "base_numbering": 1,
   "nav_menu": {},
   "number_sections": true,
   "sideBar": true,
   "skip_h1_title": false,
   "title_cell": "Table of Contents",
   "title_sidebar": "Contents",
   "toc_cell": false,
   "toc_position": {},
   "toc_section_display": true,
   "toc_window_display": false
  }
 },
 "nbformat": 4,
 "nbformat_minor": 5
}
